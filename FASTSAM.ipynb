{
 "cells": [
  {
   "cell_type": "code",
   "execution_count": 1,
   "id": "26ed3ec0",
   "metadata": {},
   "outputs": [
    {
     "name": "stdout",
     "output_type": "stream",
     "text": [
      "Cloning into 'FastSAM'...\n",
      "remote: Enumerating objects: 688, done.\u001b[K\n",
      "remote: Counting objects: 100% (162/162), done.\u001b[K\n",
      "remote: Compressing objects: 100% (50/50), done.\u001b[K\n",
      "remote: Total 688 (delta 121), reused 120 (delta 112), pack-reused 526\u001b[K\n",
      "Receiving objects: 100% (688/688), 65.99 MiB | 10.90 MiB/s, done.\n",
      "Resolving deltas: 100% (395/395), done.\n",
      "--2023-08-31 14:48:11--  https://huggingface.co/spaces/An-619/FastSAM/resolve/main/weights/FastSAM.pt\n",
      "Resolving huggingface.co (huggingface.co)... 18.161.135.112, 18.161.135.104, 18.161.135.71, ...\n",
      "Connecting to huggingface.co (huggingface.co)|18.161.135.112|:443... connected.\n",
      "HTTP request sent, awaiting response... 302 Found\n",
      "Location: https://cdn-lfs.huggingface.co/repos/71/c3/71c3ec5a83f3fc374665cec9240f614262e29088fca1a18732571e13c7084f1b/c0be4e7ddbe4c15333d15a859c676d053c486d0a746a3be6a7a9790d52a9b6d7?response-content-disposition=attachment%3B+filename*%3DUTF-8%27%27FastSAM.pt%3B+filename%3D%22FastSAM.pt%22%3B&Expires=1693766892&Policy=eyJTdGF0ZW1lbnQiOlt7IkNvbmRpdGlvbiI6eyJEYXRlTGVzc1RoYW4iOnsiQVdTOkVwb2NoVGltZSI6MTY5Mzc2Njg5Mn19LCJSZXNvdXJjZSI6Imh0dHBzOi8vY2RuLWxmcy5odWdnaW5nZmFjZS5jby9yZXBvcy83MS9jMy83MWMzZWM1YTgzZjNmYzM3NDY2NWNlYzkyNDBmNjE0MjYyZTI5MDg4ZmNhMWExODczMjU3MWUxM2M3MDg0ZjFiL2MwYmU0ZTdkZGJlNGMxNTMzM2QxNWE4NTljNjc2ZDA1M2M0ODZkMGE3NDZhM2JlNmE3YTk3OTBkNTJhOWI2ZDc%7EcmVzcG9uc2UtY29udGVudC1kaXNwb3NpdGlvbj0qIn1dfQ__&Signature=gw2UQuZ8fYisWyaL5kz5PskNm2tTffz-57tslPodeqS4TMW%7EqieD9WsZVEXPz3pYAGX7NpvcHISSrYcdQXStR-96tmvHPfTmNYQjYCXTDQL4XmubvUHhzmPhLvP3GAI%7EzuRgW7H%7Eq64%7ETQJ4TKkGMDVkGi3CMVZgSKS3HqKm8oQgPHHXocvVHQDmMZKxEQgIUO3nZU3j6DLoSxY2JrxekfweFKx9oYpvJuvnHIz7zQgSyOe0FgcnnnBHJdA8ZVQacUJXgtf62bOVaRWVjqVumJ-N-miZhRfPScXRG-xKTTRTnhyUUrxKAUW%7EeiNZWPGq7fyETzffHe-PoV3I8r7pfw__&Key-Pair-Id=KVTP0A1DKRTAX [following]\n",
      "--2023-08-31 14:48:12--  https://cdn-lfs.huggingface.co/repos/71/c3/71c3ec5a83f3fc374665cec9240f614262e29088fca1a18732571e13c7084f1b/c0be4e7ddbe4c15333d15a859c676d053c486d0a746a3be6a7a9790d52a9b6d7?response-content-disposition=attachment%3B+filename*%3DUTF-8%27%27FastSAM.pt%3B+filename%3D%22FastSAM.pt%22%3B&Expires=1693766892&Policy=eyJTdGF0ZW1lbnQiOlt7IkNvbmRpdGlvbiI6eyJEYXRlTGVzc1RoYW4iOnsiQVdTOkVwb2NoVGltZSI6MTY5Mzc2Njg5Mn19LCJSZXNvdXJjZSI6Imh0dHBzOi8vY2RuLWxmcy5odWdnaW5nZmFjZS5jby9yZXBvcy83MS9jMy83MWMzZWM1YTgzZjNmYzM3NDY2NWNlYzkyNDBmNjE0MjYyZTI5MDg4ZmNhMWExODczMjU3MWUxM2M3MDg0ZjFiL2MwYmU0ZTdkZGJlNGMxNTMzM2QxNWE4NTljNjc2ZDA1M2M0ODZkMGE3NDZhM2JlNmE3YTk3OTBkNTJhOWI2ZDc%7EcmVzcG9uc2UtY29udGVudC1kaXNwb3NpdGlvbj0qIn1dfQ__&Signature=gw2UQuZ8fYisWyaL5kz5PskNm2tTffz-57tslPodeqS4TMW%7EqieD9WsZVEXPz3pYAGX7NpvcHISSrYcdQXStR-96tmvHPfTmNYQjYCXTDQL4XmubvUHhzmPhLvP3GAI%7EzuRgW7H%7Eq64%7ETQJ4TKkGMDVkGi3CMVZgSKS3HqKm8oQgPHHXocvVHQDmMZKxEQgIUO3nZU3j6DLoSxY2JrxekfweFKx9oYpvJuvnHIz7zQgSyOe0FgcnnnBHJdA8ZVQacUJXgtf62bOVaRWVjqVumJ-N-miZhRfPScXRG-xKTTRTnhyUUrxKAUW%7EeiNZWPGq7fyETzffHe-PoV3I8r7pfw__&Key-Pair-Id=KVTP0A1DKRTAX\n",
      "Resolving cdn-lfs.huggingface.co (cdn-lfs.huggingface.co)... 108.156.245.63, 108.156.245.52, 108.156.245.3, ...\n",
      "Connecting to cdn-lfs.huggingface.co (cdn-lfs.huggingface.co)|108.156.245.63|:443... connected.\n",
      "HTTP request sent, awaiting response... 200 OK\n",
      "Length: 144943063 (138M) [application/zip]\n",
      "Saving to: ‘FastSAM/weights/FastSAM.pt’\n",
      "\n",
      "FastSAM.pt          100%[===================>] 138.23M  56.1MB/s    in 2.5s    \n",
      "\n",
      "2023-08-31 14:48:14 (56.1 MB/s) - ‘FastSAM/weights/FastSAM.pt’ saved [144943063/144943063]\n",
      "\n",
      "--2023-08-31 14:48:15--  https://dl.fbaipublicfiles.com/segment_anything/sam_vit_h_4b8939.pth\n",
      "Resolving dl.fbaipublicfiles.com (dl.fbaipublicfiles.com)... 13.225.47.41, 13.225.47.77, 13.225.47.11, ...\n",
      "Connecting to dl.fbaipublicfiles.com (dl.fbaipublicfiles.com)|13.225.47.41|:443... connected.\n",
      "HTTP request sent, awaiting response... 200 OK\n",
      "Length: 2564550879 (2.4G) [binary/octet-stream]\n",
      "Saving to: ‘FastSAM/weights/sam_vit_h_4b8939.pth’\n",
      "\n",
      "sam_vit_h_4b8939.pt 100%[===================>]   2.39G  63.0MB/s    in 39s     \n",
      "\n",
      "2023-08-31 14:48:54 (63.3 MB/s) - ‘FastSAM/weights/sam_vit_h_4b8939.pth’ saved [2564550879/2564550879]\n",
      "\n"
     ]
    }
   ],
   "source": [
    "!git clone https://github.com/CASIA-IVA-Lab/FastSAM.git\n",
    "!pip -q install -r FastSAM/requirements.txt\n",
    "!pip -q install git+https://github.com/openai/CLIP.git roboflow supervision\n",
    "\n",
    "!pip -q install git+https://github.com/facebookresearch/segment-anything.git\n",
    "!wget -P FastSAM/weights https://huggingface.co/spaces/An-619/FastSAM/resolve/main/weights/FastSAM.pt\n",
    "!wget -P FastSAM/weights https://dl.fbaipublicfiles.com/segment_anything/sam_vit_h_4b8939.pth"
   ]
  },
  {
   "cell_type": "code",
   "execution_count": 2,
   "id": "755527ca",
   "metadata": {},
   "outputs": [],
   "source": [
    "# Example from \n",
    "#https://blog.roboflow.com/how-to-use-fastsam/"
   ]
  },
  {
   "cell_type": "code",
   "execution_count": 1,
   "id": "e5288834",
   "metadata": {},
   "outputs": [
    {
     "ename": "ModuleNotFoundError",
     "evalue": "No module named 'fastsam'",
     "output_type": "error",
     "traceback": [
      "\u001b[0;31m---------------------------------------------------------------------------\u001b[0m",
      "\u001b[0;31mModuleNotFoundError\u001b[0m                       Traceback (most recent call last)",
      "Input \u001b[0;32mIn [1]\u001b[0m, in \u001b[0;36m<cell line: 1>\u001b[0;34m()\u001b[0m\n\u001b[0;32m----> 1\u001b[0m \u001b[38;5;28;01mfrom\u001b[39;00m \u001b[38;5;21;01mfastsam\u001b[39;00m \u001b[38;5;28;01mimport\u001b[39;00m FastSAM, FastSAMPrompt\n\u001b[1;32m      2\u001b[0m \u001b[38;5;28;01mfrom\u001b[39;00m \u001b[38;5;21;01msegment_anything\u001b[39;00m \u001b[38;5;28;01mimport\u001b[39;00m sam_model_registry, SamAutomaticMaskGenerator, SamPredictor\n\u001b[1;32m      3\u001b[0m \u001b[38;5;28;01mimport\u001b[39;00m \u001b[38;5;21;01msupervision\u001b[39;00m \u001b[38;5;28;01mas\u001b[39;00m \u001b[38;5;21;01msv\u001b[39;00m\n",
      "\u001b[0;31mModuleNotFoundError\u001b[0m: No module named 'fastsam'"
     ]
    }
   ],
   "source": [
    "from fastsam import FastSAM, FastSAMPrompt\n",
    "from segment_anything import sam_model_registry, SamAutomaticMaskGenerator, SamPredictor\n",
    "import supervision as sv\n",
    "import roboflow\n",
    "from roboflow import Roboflow\n",
    "\n",
    "#model = FastSAM('./weights/FastSAM.pt')"
   ]
  },
  {
   "cell_type": "code",
   "execution_count": null,
   "id": "6b703bb1",
   "metadata": {},
   "outputs": [],
   "source": []
  }
 ],
 "metadata": {
  "kernelspec": {
   "display_name": "machine_learning",
   "language": "python",
   "name": "machine_learning"
  },
  "language_info": {
   "codemirror_mode": {
    "name": "ipython",
    "version": 3
   },
   "file_extension": ".py",
   "mimetype": "text/x-python",
   "name": "python",
   "nbconvert_exporter": "python",
   "pygments_lexer": "ipython3",
   "version": "3.10.4"
  }
 },
 "nbformat": 4,
 "nbformat_minor": 5
}
